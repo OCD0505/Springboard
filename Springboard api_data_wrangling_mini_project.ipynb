{
 "cells": [
  {
   "cell_type": "markdown",
   "metadata": {},
   "source": [
    "This exercise will require you to pull some data from https://data.nasdaq.com/ (formerly Quandl API)."
   ]
  },
  {
   "cell_type": "markdown",
   "metadata": {},
   "source": [
    "As a first step, you will need to register a free account on the https://data.nasdaq.com/ website."
   ]
  },
  {
   "cell_type": "markdown",
   "metadata": {},
   "source": [
    "After you register, you will be provided with a unique API key, that you should store:\n",
    "\n",
    "*Note*: Use a `.env` file and put your key in there and `python-dotenv` to access it in this notebook. \n",
    "\n",
    "The code below uses a key that was used when generating this project but has since been deleted. Never submit your keys to source control. There is a `.env-example` file in this repository to illusrtate what you need. Copy that to a file called `.env` and use your own api key in that `.env` file. Make sure you also have a `.gitignore` file with a line for `.env` added to it. \n",
    "\n",
    "The standard Python gitignore is [here](https://github.com/github/gitignore/blob/master/Python.gitignore) you can just copy that. "
   ]
  },
  {
   "cell_type": "code",
   "execution_count": 7,
   "metadata": {},
   "outputs": [
    {
     "name": "stdout",
     "output_type": "stream",
     "text": [
      "QStbZwX3KSwiMDJCekgy\n"
     ]
    }
   ],
   "source": [
    "# get api key from your .env file\n",
    "import os\n",
    "from dotenv import load_dotenv\n",
    "\n",
    "load_dotenv()\n",
    "\n",
    "API_KEY = os.getenv('NASDAQ_API_KEY')\n",
    "\n",
    "print(API_KEY)"
   ]
  },
  {
   "cell_type": "markdown",
   "metadata": {},
   "source": [
    "Nasdaq Data has a large number of data sources, but, unfortunately, most of them require a Premium subscription. Still, there are also a good number of free datasets."
   ]
  },
  {
   "cell_type": "markdown",
   "metadata": {},
   "source": [
    "For this mini project, we will focus on equities data from the Frankfurt Stock Exhange (FSE), which is available for free. We'll try and analyze the stock prices of a company called Carl Zeiss Meditec, which manufactures tools for eye examinations, as well as medical lasers for laser eye surgery: https://www.zeiss.com/meditec/int/home.html. The company is listed under the stock ticker AFX_X."
   ]
  },
  {
   "cell_type": "markdown",
   "metadata": {},
   "source": [
    "You can find the detailed Nasdaq Data API instructions here: https://docs.data.nasdaq.com/docs/in-depth-usage"
   ]
  },
  {
   "cell_type": "markdown",
   "metadata": {},
   "source": [
    "While there is a dedicated Python package for connecting to the Nasdaq API, we would prefer that you use the *requests* package, which can be easily downloaded using *pip* or *conda*. You can find the documentation for the package here: http://docs.python-requests.org/en/master/ "
   ]
  },
  {
   "cell_type": "markdown",
   "metadata": {},
   "source": [
    "Finally, apart from the *requests* package, you are encouraged to not use any third party Python packages, such as *pandas*, and instead focus on what's available in the Python Standard Library (the *collections* module might come in handy: https://pymotw.com/3/collections/).\n",
    "Also, since you won't have access to DataFrames, you are encouraged to us Python's native data structures - preferably dictionaries, though some questions can also be answered using lists.\n",
    "You can read more on these data structures here: https://docs.python.org/3/tutorial/datastructures.html"
   ]
  },
  {
   "cell_type": "markdown",
   "metadata": {},
   "source": [
    "Keep in mind that the JSON responses you will be getting from the API map almost one-to-one to Python's dictionaries. Unfortunately, they can be very nested, so make sure you read up on indexing dictionaries in the documentation provided above."
   ]
  },
  {
   "cell_type": "code",
   "execution_count": 158,
   "metadata": {},
   "outputs": [],
   "source": [
    "# First, import the relevant modules\n",
    "import requests\n",
    "import collections\n",
    "import pprint as pp\n",
    "import numpy as np"
   ]
  },
  {
   "cell_type": "markdown",
   "metadata": {},
   "source": [
    "Note: API's can change a bit with each version, for this exercise it is reccomended to use the nasdaq api at `https://data.nasdaq.com/api/v3/`. This is the same api as what used to be quandl so `https://www.quandl.com/api/v3/` should work too.\n",
    "\n",
    "Hint: We are looking for the `AFX_X` data on the `datasets/FSE/` dataset."
   ]
  },
  {
   "cell_type": "code",
   "execution_count": 92,
   "metadata": {},
   "outputs": [],
   "source": [
    "# Now, call the Nasdaq API and pull out a small sample of the data (only one day) to get a glimpse\n",
    "# into the JSON structure that will be returned\n",
    "url = \"https://data.nasdaq.com/api/v3/datasets/FSE/AFX_X.json\"\n",
    "res = requests.get(url)\n",
    "res.status_code\n",
    "nasdaq_json = res.json()\n"
   ]
  },
  {
   "cell_type": "code",
   "execution_count": 188,
   "metadata": {},
   "outputs": [
    {
     "data": {
      "text/plain": [
       "\" \\n{'dataset': {'id': 10095370,\\n  'dataset_code': 'AFX_X',\\n  'database_code': 'FSE',\\n  'name': 'Carl Zeiss Meditec (AFX_X)',\\n  'description': 'Stock Prices for Carl Zeiss Meditec (2020-11-02) from the Frankfurt Stock Exchange.<br><br>Trading System: Xetra<br><br>ISIN: DE0005313704',\\n  'refreshed_at': '2020-12-01T14:48:09.907Z',\\n  'newest_available_date': '2020-12-01',\\n  'oldest_available_date': '2000-06-07',\\n  'column_names': ['Date',\\n   'Open',\\n   'High',\\n   'Low',\\n   'Close',\\n   'Change',\\n   'Traded Volume',\\n   'Turnover',\\n   'Last Price of the Day',\\n   'Daily Traded Units',\\n   'Daily Turnover'],\\n  'frequency': 'daily',\\n  'type': 'Time Series',\\n  'premium': False,\\n  'limit': None,\\n  'transform': None,\\n  'column_index': None,\\n  'start_date': '2000-06-07',\\n  'end_date': '2020-12-01',\\n  'data': \""
      ]
     },
     "execution_count": 188,
     "metadata": {},
     "output_type": "execute_result"
    }
   ],
   "source": [
    "# Inspect the JSON structure of the object you created, and take note of how nested it is,\n",
    "# as well as the overall structure\n",
    "\n",
    "\"\"\" \n",
    "{'dataset': {'id': 10095370,\n",
    "  'dataset_code': 'AFX_X',\n",
    "  'database_code': 'FSE',\n",
    "  'name': 'Carl Zeiss Meditec (AFX_X)',\n",
    "  'description': 'Stock Prices for Carl Zeiss Meditec (2020-11-02) from the Frankfurt Stock Exchange.<br><br>Trading System: Xetra<br><br>ISIN: DE0005313704',\n",
    "  'refreshed_at': '2020-12-01T14:48:09.907Z',\n",
    "  'newest_available_date': '2020-12-01',\n",
    "  'oldest_available_date': '2000-06-07',\n",
    "  'column_names': ['Date',\n",
    "   'Open',\n",
    "   'High',\n",
    "   'Low',\n",
    "   'Close',\n",
    "   'Change',\n",
    "   'Traded Volume',\n",
    "   'Turnover',\n",
    "   'Last Price of the Day',\n",
    "   'Daily Traded Units',\n",
    "   'Daily Turnover'],\n",
    "  'frequency': 'daily',\n",
    "  'type': 'Time Series',\n",
    "  'premium': False,\n",
    "  'limit': None,\n",
    "  'transform': None,\n",
    "  'column_index': None,\n",
    "  'start_date': '2000-06-07',\n",
    "  'end_date': '2020-12-01',\n",
    "  'data': \"\"\""
   ]
  },
  {
   "cell_type": "markdown",
   "metadata": {},
   "source": [
    "These are your tasks for this mini project:\n",
    "\n",
    "1. Collect data from the Franfurt Stock Exchange, for the ticker AFX_X, for the whole year 2017 (keep in mind that the date format is YYYY-MM-DD).\n",
    "2. Convert the returned JSON object into a Python dictionary.\n",
    "3. Calculate what the highest and lowest opening prices were for the stock in this period.\n",
    "4. What was the largest change in any one day (based on High and Low price)?\n",
    "5. What was the largest change between any two days (based on Closing Price)?\n",
    "6. What was the average daily trading volume during this year?\n",
    "7. (Optional) What was the median trading volume during this year. (Note: you may need to implement your own function for calculating the median.)"
   ]
  },
  {
   "cell_type": "markdown",
   "metadata": {},
   "source": [
    "#### 1. Collect data from the Franfurt Stock Exchange, for the ticker AFX_X, for the whole year 2017 \n"
   ]
  },
  {
   "cell_type": "code",
   "execution_count": 181,
   "metadata": {
    "scrolled": true
   },
   "outputs": [],
   "source": [
    "# (keep in mind that the date format is YYYY-MM-DD).\n",
    "nasdaq_json_data = nasdaq_json['dataset']['data']\n",
    "nasdaq_json_2017 = [nasdaq_json_data[x] for x in range(len(nasdaq_json_data)) if '2017' in nasdaq_json_data[x][0]]\n"
   ]
  },
  {
   "cell_type": "markdown",
   "metadata": {},
   "source": [
    "#### 2. Convert the returned JSON object into a Python dictionary.\n"
   ]
  },
  {
   "cell_type": "code",
   "execution_count": 182,
   "metadata": {
    "scrolled": true
   },
   "outputs": [
    {
     "name": "stdout",
     "output_type": "stream",
     "text": [
      "<class 'dict'>\n"
     ]
    }
   ],
   "source": [
    "#created a dictionary from the list created in the previous cell (see above)\n",
    "nasdaq_json_2017_dict = {}\n",
    "for x in nasdaq_json_2017:\n",
    "    nasdaq_json_2017_dict[x[0]]=dict(zip(nasdaq_json['dataset']['column_names'][1:],x[1:])) \n",
    "    #Used dict() and zip() to create a nested dictionary so we knew what each value represented (ie open, high, low, etc.)\n",
    "    \n",
    "print(type(nasdaq_json_2017_dict))\n"
   ]
  },
  {
   "cell_type": "markdown",
   "metadata": {},
   "source": [
    "#### 3. Calculate what the highest and lowest opening prices were for the stock in this period.\n"
   ]
  },
  {
   "cell_type": "code",
   "execution_count": 140,
   "metadata": {},
   "outputs": [
    {
     "name": "stdout",
     "output_type": "stream",
     "text": [
      "Highest opening price is 53.11 \n",
      "Lowest opening price is 34.0\n"
     ]
    }
   ],
   "source": [
    "#Using a list comprehension, a list of all opening prices was created to find min and max for 2017\n",
    "opening_prices = [dict_value['Open'] for key,dict_value in nasdaq_json_2017_dict.items() if dict_value['Open']!= None]\n",
    "\n",
    "print(\"Highest opening price is\", max(opening_prices),\"\\nLowest opening price is\",min(opening_prices))"
   ]
  },
  {
   "cell_type": "markdown",
   "metadata": {},
   "source": [
    "#### 4. What was the largest change in any one day (based on High and Low price)?\n"
   ]
  },
  {
   "cell_type": "code",
   "execution_count": 150,
   "metadata": {},
   "outputs": [
    {
     "name": "stdout",
     "output_type": "stream",
     "text": [
      "Largest change in any one day (based on High and Low price) is 2.81\n"
     ]
    }
   ],
   "source": [
    "#Using a list comprehension, a list of the difference of the high and low for each day was created then found the max\n",
    "price_difference_per_day = [(dict_values['High'] - dict_values['Low']) \\\n",
    "                 for key,dict_values in nasdaq_json_2017_dict.items()]\n",
    "\n",
    "print(\"Largest change in any one day (based on High and Low price) is\", \\\n",
    "                                round(max(price_difference_per_day),2))"
   ]
  },
  {
   "cell_type": "markdown",
   "metadata": {},
   "source": [
    "#### 5. What was the largest change between any two days (based on Closing Price)?\n"
   ]
  },
  {
   "cell_type": "code",
   "execution_count": 152,
   "metadata": {},
   "outputs": [
    {
     "name": "stdout",
     "output_type": "stream",
     "text": [
      "Largest change between any two days (based on closing price) is 19.03\n"
     ]
    }
   ],
   "source": [
    "#Using a list comprehension, a list of all the closing prices was created and then found the difference between the\n",
    "#highest and lowest which would be the largest change\n",
    "closing_prices = [dict_value['Close'] for key,dict_value in nasdaq_json_2017_dict.items() if dict_value['Close']!= None]\n",
    "print(\"Largest change between any two days (based on closing price) is\",max(closing_prices)-min(closing_prices))"
   ]
  },
  {
   "cell_type": "markdown",
   "metadata": {},
   "source": [
    "#### 6. What was the average daily trading volume during this year?"
   ]
  },
  {
   "cell_type": "code",
   "execution_count": 165,
   "metadata": {},
   "outputs": [
    {
     "name": "stdout",
     "output_type": "stream",
     "text": [
      "Average daily trading volume in 2017 is 89124.0\n"
     ]
    }
   ],
   "source": [
    "print(\"Average daily trading volume in 2017 is\",\\\n",
    "      round(np.mean([dict_value['Traded Volume'] for key,dict_value in nasdaq_json_2017_dict.items() \\\n",
    "      if dict_value['Traded Volume']!= None]),0))"
   ]
  },
  {
   "cell_type": "markdown",
   "metadata": {},
   "source": [
    "#### 7. (Optional) What was the median trading volume during this year. (Note: you may need to implement your own function for calculating the median.)"
   ]
  },
  {
   "cell_type": "code",
   "execution_count": 166,
   "metadata": {},
   "outputs": [
    {
     "name": "stdout",
     "output_type": "stream",
     "text": [
      "Median daily trading volume in 2017 is 76286.0\n"
     ]
    }
   ],
   "source": [
    "print(\"Median daily trading volume in 2017 is\",\\\n",
    "      round(np.median([dict_value['Traded Volume'] for key,dict_value in nasdaq_json_2017_dict.items() \\\n",
    "      if dict_value['Traded Volume']!= None]),0))"
   ]
  }
 ],
 "metadata": {
  "interpreter": {
   "hash": "7635eb1b9d0fe97add78a7368b6b431c09bb8ad5c42e437d64abdd99821c31ae"
  },
  "kernelspec": {
   "display_name": "Python 3 (ipykernel)",
   "language": "python",
   "name": "python3"
  },
  "language_info": {
   "codemirror_mode": {
    "name": "ipython",
    "version": 3
   },
   "file_extension": ".py",
   "mimetype": "text/x-python",
   "name": "python",
   "nbconvert_exporter": "python",
   "pygments_lexer": "ipython3",
   "version": "3.10.9"
  }
 },
 "nbformat": 4,
 "nbformat_minor": 4
}
