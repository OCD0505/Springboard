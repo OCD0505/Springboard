{
 "cells": [
  {
   "cell_type": "markdown",
   "id": "a59e3957",
   "metadata": {},
   "source": [
    "### **Springboard - Unit 8.3 Case Study**\n",
    " **PART 2: SQLite | Questions 10 - 13**"
   ]
  },
  {
   "cell_type": "markdown",
   "id": "91bcb348",
   "metadata": {},
   "source": [
    "The purpose of this notebook is to answer the questions using the the country club data exported from PHPMyAdmin, and connected to a local SQLite instance."
   ]
  },
  {
   "cell_type": "markdown",
   "id": "92dbab9c",
   "metadata": {},
   "source": [
    "**Imports**"
   ]
  },
  {
   "cell_type": "code",
   "execution_count": 1,
   "id": "bc06f776",
   "metadata": {},
   "outputs": [],
   "source": [
    "# Importing \n",
    "\n",
    "import pandas as pd\n",
    "import matplotlib.pyplot as plt\n",
    "import seaborn as sns\n",
    "import numpy as np\n",
    "from sqlalchemy import create_engine\n",
    "import os"
   ]
  },
  {
   "cell_type": "code",
   "execution_count": 2,
   "id": "27b93b83",
   "metadata": {},
   "outputs": [
    {
     "data": {
      "text/plain": [
       "'/Users/frankyaraujo/Development/Springboard_Main/GitHubDir/Springboard'"
      ]
     },
     "execution_count": 2,
     "metadata": {},
     "output_type": "execute_result"
    }
   ],
   "source": [
    "os.getcwd()"
   ]
  },
  {
   "cell_type": "markdown",
   "id": "b1827806",
   "metadata": {},
   "source": [
    "**Local SQLite Instance**"
   ]
  },
  {
   "cell_type": "code",
   "execution_count": 3,
   "id": "0982b1cc",
   "metadata": {
    "scrolled": false
   },
   "outputs": [
    {
     "name": "stdout",
     "output_type": "stream",
     "text": [
      "['Bookings', 'Facilities', 'Members']\n"
     ]
    },
    {
     "name": "stderr",
     "output_type": "stream",
     "text": [
      "/var/folders/l1/kpr_34xn51ndl39jn5r_rqn00000gn/T/ipykernel_50934/619746547.py:4: SADeprecationWarning: The Engine.table_names() method is deprecated and will be removed in a future release.  Please refer to Inspector.get_table_names(). (deprecated since: 1.4)\n",
      "  table_names = engine.table_names()\n"
     ]
    }
   ],
   "source": [
    "# Create database engine and getting table names\n",
    "\n",
    "engine = create_engine('sqlite:///Springboard - Unit 8.3 Case Study - Country Club sqlite_db_pythonsqlite.db')\n",
    "table_names = engine.table_names()\n",
    "print(table_names)"
   ]
  },
  {
   "cell_type": "code",
   "execution_count": 50,
   "id": "e6f52b16",
   "metadata": {},
   "outputs": [
    {
     "data": {
      "text/html": [
       "<div>\n",
       "<style scoped>\n",
       "    .dataframe tbody tr th:only-of-type {\n",
       "        vertical-align: middle;\n",
       "    }\n",
       "\n",
       "    .dataframe tbody tr th {\n",
       "        vertical-align: top;\n",
       "    }\n",
       "\n",
       "    .dataframe thead th {\n",
       "        text-align: right;\n",
       "    }\n",
       "</style>\n",
       "<table border=\"1\" class=\"dataframe\">\n",
       "  <thead>\n",
       "    <tr style=\"text-align: right;\">\n",
       "      <th></th>\n",
       "      <th>memid</th>\n",
       "      <th>surname</th>\n",
       "      <th>firstname</th>\n",
       "      <th>address</th>\n",
       "      <th>zipcode</th>\n",
       "      <th>telephone</th>\n",
       "      <th>recommendedby</th>\n",
       "      <th>joindate</th>\n",
       "      <th>bookid</th>\n",
       "      <th>facid</th>\n",
       "      <th>starttime</th>\n",
       "      <th>slots</th>\n",
       "      <th>name</th>\n",
       "      <th>membercost</th>\n",
       "      <th>guestcost</th>\n",
       "      <th>initialoutlay</th>\n",
       "      <th>monthlymaintenance</th>\n",
       "    </tr>\n",
       "  </thead>\n",
       "  <tbody>\n",
       "    <tr>\n",
       "      <th>0</th>\n",
       "      <td>0</td>\n",
       "      <td>GUEST</td>\n",
       "      <td>GUEST</td>\n",
       "      <td>GUEST</td>\n",
       "      <td>0</td>\n",
       "      <td>(000) 000-0000</td>\n",
       "      <td></td>\n",
       "      <td>2012-07-01 00:00:00</td>\n",
       "      <td>2.0</td>\n",
       "      <td>6.0</td>\n",
       "      <td>2012-07-03 18:00:00</td>\n",
       "      <td>2.0</td>\n",
       "      <td>Squash Court</td>\n",
       "      <td>3.5</td>\n",
       "      <td>17.5</td>\n",
       "      <td>5000.0</td>\n",
       "      <td>80.0</td>\n",
       "    </tr>\n",
       "    <tr>\n",
       "      <th>1</th>\n",
       "      <td>0</td>\n",
       "      <td>GUEST</td>\n",
       "      <td>GUEST</td>\n",
       "      <td>GUEST</td>\n",
       "      <td>0</td>\n",
       "      <td>(000) 000-0000</td>\n",
       "      <td></td>\n",
       "      <td>2012-07-01 00:00:00</td>\n",
       "      <td>9.0</td>\n",
       "      <td>4.0</td>\n",
       "      <td>2012-07-04 15:00:00</td>\n",
       "      <td>2.0</td>\n",
       "      <td>Massage Room 1</td>\n",
       "      <td>9.9</td>\n",
       "      <td>80.0</td>\n",
       "      <td>4000.0</td>\n",
       "      <td>3000.0</td>\n",
       "    </tr>\n",
       "  </tbody>\n",
       "</table>\n",
       "</div>"
      ],
      "text/plain": [
       "   memid surname firstname address  zipcode       telephone recommendedby  \\\n",
       "0      0   GUEST     GUEST   GUEST        0  (000) 000-0000                 \n",
       "1      0   GUEST     GUEST   GUEST        0  (000) 000-0000                 \n",
       "\n",
       "              joindate  bookid  facid            starttime  slots  \\\n",
       "0  2012-07-01 00:00:00     2.0    6.0  2012-07-03 18:00:00    2.0   \n",
       "1  2012-07-01 00:00:00     9.0    4.0  2012-07-04 15:00:00    2.0   \n",
       "\n",
       "             name  membercost  guestcost  initialoutlay  monthlymaintenance  \n",
       "0    Squash Court         3.5       17.5         5000.0                80.0  \n",
       "1  Massage Room 1         9.9       80.0         4000.0              3000.0  "
      ]
     },
     "execution_count": 50,
     "metadata": {},
     "output_type": "execute_result"
    }
   ],
   "source": [
    "# Testing the connection\n",
    "\n",
    "con = engine.connect()\n",
    "rs = con.execute(\"SELECT * FROM Members LEFT JOIN Bookings USING(memid) LEFT JOIN Facilities USING(facid)\")\n",
    "bookings_facilities_members = pd.DataFrame (rs.fetchall())\n",
    "bookings_facilities_members.columns = rs.keys()\n",
    "con.close()\n",
    "\n",
    "bookings_facilities_members.head(2)"
   ]
  },
  {
   "cell_type": "markdown",
   "id": "133736c4",
   "metadata": {},
   "source": [
    "### Q10. \n",
    "**Produce a list of facilities with a total revenue less than 1000.\n",
    "The output of facility name and total revenue, sorted by revenue. Remember\n",
    "that there's a different cost for guests and members!**"
   ]
  },
  {
   "cell_type": "code",
   "execution_count": 55,
   "id": "e1850fdf",
   "metadata": {
    "scrolled": true
   },
   "outputs": [
    {
     "name": "stdout",
     "output_type": "stream",
     "text": [
      "        Facility  Revenue\n",
      "0     Pool Table      270\n",
      "1  Snooker Table      240\n",
      "2   Table Tennis      180\n"
     ]
    }
   ],
   "source": [
    "con = engine.connect()\n",
    "query1=\"SELECT subquery.Facility, subquery.Revenue \\\n",
    "FROM(SELECT f.name AS Facility, SUM(CASE WHEN b.memid = 0 THEN b.slots*f.guestcost \\\n",
    "                 ELSE b.slots*membercost END) AS Revenue \\\n",
    "FROM Facilities AS f \\\n",
    "LEFT JOIN Bookings AS b \\\n",
    "USING(facid) \\\n",
    "GROUP BY f.name \\\n",
    "ORDER BY revenue DESC) AS subquery \\\n",
    "WHERE subquery.Revenue < 1000;\"\n",
    "rs = con.execute(query1)\n",
    "q10_answer = pd.DataFrame (rs.fetchall())\n",
    "q10_answer.columns = rs.keys()\n",
    "con.close()\n",
    "\n",
    "print(q10_answer)"
   ]
  },
  {
   "cell_type": "markdown",
   "id": "207b55bb",
   "metadata": {},
   "source": [
    "### Q11.\n",
    "**Q11: Produce a report of members and who recommended them in alphabetic surname,firstname order**\n"
   ]
  },
  {
   "cell_type": "code",
   "execution_count": 66,
   "id": "25b06232",
   "metadata": {},
   "outputs": [
    {
     "name": "stdout",
     "output_type": "stream",
     "text": [
      "                Member_name     Recommended_by\n",
      "0            Anna Mackenzie       Darren Smith\n",
      "1                Anne Baker    Ponder Stibbons\n",
      "2              Charles Owen       Darren Smith\n",
      "3               David Jones    Janice Joplette\n",
      "4              David Pinker     Jemima Farrell\n",
      "5             Douglas Jones        David Jones\n",
      "6             Erica Crumpet        Tracy Smith\n",
      "7            Florence Bader    Ponder Stibbons\n",
      "8            Gerald Butters       Darren Smith\n",
      "9          Henrietta Rumney    Matthew Genting\n",
      "10  Henry Worthington-Smyth        Tracy Smith\n",
      "11               Jack Smith       Darren Smith\n",
      "12          Janice Joplette       Darren Smith\n",
      "13              Joan Coplin      Timothy Baker\n",
      "14                John Hunt  Millicent Purview\n",
      "15          Matthew Genting     Gerald Butters\n",
      "16        Millicent Purview        Tracy Smith\n",
      "17               Nancy Dare    Janice Joplette\n",
      "18          Ponder Stibbons       Burton Tracy\n",
      "19         Ramnaresh Sarwin     Florence Bader\n",
      "20               Tim Boothe         Tim Rownam\n",
      "21            Timothy Baker     Jemima Farrell\n"
     ]
    }
   ],
   "source": [
    "con = engine.connect()\n",
    "query2=\"\"\"SELECT subquery.Member_name, \n",
    "                firstname || ' ' || surname AS Recommended_by\n",
    "FROM (SELECT \n",
    "    m.firstname || ' ' || m.surname AS Member_name, \n",
    "    m.recommendedby\n",
    "FROM Facilities AS f\n",
    "LEFT JOIN (SELECT*\n",
    "           FROM Bookings\n",
    "           WHERE memid<>0) AS b\n",
    "USING(facid)\n",
    "LEFT JOIN Members AS m        \n",
    "USING(memid)\n",
    "GROUP BY Member_name) AS subquery\n",
    "LEFT JOIN Members\n",
    "ON subquery.recommendedby = memid\n",
    "WHERE memid<>0\n",
    "ORDER BY subquery.Member_name;\"\"\"\n",
    "\n",
    "rs = con.execute(query2)\n",
    "q11_answer = pd.DataFrame (rs.fetchall())\n",
    "q11_answer.columns = rs.keys()\n",
    "con.close()\n",
    "\n",
    "print(q11_answer)"
   ]
  },
  {
   "cell_type": "markdown",
   "id": "aa4105a5",
   "metadata": {},
   "source": [
    "### Q12.\n",
    "**Q12: Find the facilities with their usage by member, but not guests**"
   ]
  },
  {
   "cell_type": "code",
   "execution_count": 67,
   "id": "7987179d",
   "metadata": {
    "scrolled": false
   },
   "outputs": [
    {
     "name": "stdout",
     "output_type": "stream",
     "text": [
      "                Member_name         Facility  Slots_booked\n",
      "0            Anna Mackenzie  Badminton Court           231\n",
      "1                Anne Baker   Tennis Court 1           296\n",
      "2              Burton Tracy   Tennis Court 1           366\n",
      "3              Charles Owen   Tennis Court 1           345\n",
      "4              Darren Smith   Tennis Court 2           685\n",
      "5             David Farrell   Tennis Court 1            50\n",
      "6               David Jones   Tennis Court 1           305\n",
      "7              David Pinker   Tennis Court 1           159\n",
      "8             Douglas Jones   Tennis Court 1            37\n",
      "9             Erica Crumpet   Tennis Court 1            17\n",
      "10           Florence Bader   Tennis Court 1           237\n",
      "11           Gerald Butters   Tennis Court 1           409\n",
      "12         Henrietta Rumney   Tennis Court 2            38\n",
      "13  Henry Worthington-Smyth  Badminton Court            60\n",
      "14      Hyacinth Tupperware  Badminton Court            28\n",
      "15               Jack Smith   Tennis Court 1           219\n",
      "16          Janice Joplette   Tennis Court 1           326\n",
      "17           Jemima Farrell   Tennis Court 1           180\n",
      "18              Joan Coplin   Tennis Court 1           106\n",
      "19                John Hunt   Tennis Court 1            40\n",
      "20          Matthew Genting   Tennis Court 1           131\n",
      "21        Millicent Purview   Tennis Court 2            32\n",
      "22               Nancy Dare   Tennis Court 1           267\n",
      "23          Ponder Stibbons   Tennis Court 1           249\n",
      "24         Ramnaresh Sarwin   Tennis Court 1           153\n",
      "25               Tim Boothe   Tennis Court 1           440\n",
      "26               Tim Rownam   Tennis Court 1           660\n",
      "27            Timothy Baker   Tennis Court 1           290\n",
      "28              Tracy Smith   Tennis Court 1           435\n"
     ]
    }
   ],
   "source": [
    "con = engine.connect()\n",
    "query3= \"\"\"SELECT firstname || ' ' || surname AS Member_name,\n",
    "    f.name AS Facility, SUM(b.slots) AS Slots_booked\n",
    "FROM Facilities AS f\n",
    "LEFT JOIN (SELECT*\n",
    "           FROM Bookings\n",
    "           WHERE memid<>0) AS b\n",
    "USING(facid) \n",
    "LEFT JOIN Members AS m \n",
    "USING(memid)\n",
    "GROUP BY Member_name;\"\"\"\n",
    "\n",
    "rs = con.execute(query3)\n",
    "q12_answer = pd.DataFrame (rs.fetchall())\n",
    "q12_answer.columns = rs.keys()\n",
    "con.close()\n",
    "\n",
    "print(q12_answer)"
   ]
  },
  {
   "cell_type": "markdown",
   "id": "c5d59cea",
   "metadata": {},
   "source": [
    "### Q13.\n",
    "**Q13: Find the facilities usage by month, but not guests**"
   ]
  },
  {
   "cell_type": "code",
   "execution_count": 69,
   "id": "387fd374",
   "metadata": {},
   "outputs": [
    {
     "name": "stdout",
     "output_type": "stream",
     "text": [
      "               name month  Slots_booked\n",
      "0   Badminton Court    07           165\n",
      "1   Badminton Court    08           414\n",
      "2   Badminton Court    09           507\n",
      "3    Massage Room 1    07           166\n",
      "4    Massage Room 1    08           316\n",
      "5    Massage Room 1    09           402\n",
      "6    Massage Room 2    07             8\n",
      "7    Massage Room 2    08            18\n",
      "8    Massage Room 2    09            28\n",
      "9        Pool Table    07           110\n",
      "10       Pool Table    08           303\n",
      "11       Pool Table    09           443\n",
      "12    Snooker Table    07           140\n",
      "13    Snooker Table    08           316\n",
      "14    Snooker Table    09           404\n",
      "15     Squash Court    07            50\n",
      "16     Squash Court    08           184\n",
      "17     Squash Court    09           184\n",
      "18     Table Tennis    07            98\n",
      "19     Table Tennis    08           296\n",
      "20     Table Tennis    09           400\n",
      "21   Tennis Court 1    07           201\n",
      "22   Tennis Court 1    08           339\n",
      "23   Tennis Court 1    09           417\n",
      "24   Tennis Court 2    07           123\n",
      "25   Tennis Court 2    08           345\n",
      "26   Tennis Court 2    09           414\n"
     ]
    }
   ],
   "source": [
    "con = engine.connect()\n",
    "query4= \"\"\"SELECT \n",
    "    f.name,\n",
    "    strftime('%m',b.starttime) AS month,\n",
    "    SUM(b.slots) AS Slots_booked    \n",
    "FROM Facilities AS f\n",
    "LEFT JOIN (SELECT*\n",
    "           FROM Bookings\n",
    "           WHERE memid<>0) AS b\n",
    "USING(facid) \n",
    "LEFT JOIN Members AS m \n",
    "USING(memid)\n",
    "GROUP BY f.name,month;\"\"\"\n",
    "\n",
    "rs = con.execute(query4)\n",
    "q13_answer = pd.DataFrame (rs.fetchall())\n",
    "q13_answer.columns = rs.keys()\n",
    "con.close()\n",
    "\n",
    "print(q13_answer)"
   ]
  }
 ],
 "metadata": {
  "kernelspec": {
   "display_name": "Python 3 (ipykernel)",
   "language": "python",
   "name": "python3"
  },
  "language_info": {
   "codemirror_mode": {
    "name": "ipython",
    "version": 3
   },
   "file_extension": ".py",
   "mimetype": "text/x-python",
   "name": "python",
   "nbconvert_exporter": "python",
   "pygments_lexer": "ipython3",
   "version": "3.10.9"
  }
 },
 "nbformat": 4,
 "nbformat_minor": 5
}
